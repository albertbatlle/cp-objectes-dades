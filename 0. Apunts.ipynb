{
 "cells": [
  {
   "cell_type": "markdown",
   "id": "f7325106-8a16-41f2-98f2-f5c99481e9c5",
   "metadata": {},
   "source": [
    "# Tasca S8.01. Visualitzacions en Python"
   ]
  },
  {
   "cell_type": "markdown",
   "id": "e275fdff-ac72-40ec-9c05-e64668d954e2",
   "metadata": {},
   "source": [
    "## Descripció"
   ]
  },
  {
   "cell_type": "markdown",
   "id": "4d6d977c-adf9-46d0-8be2-bee7cd4772c2",
   "metadata": {},
   "source": [
    "Aquesta pràctica permetrà explorar com es poden utilitzar eines de visualització avançades en Python per a interpretar i presentar dades de manera efectiva, proporcionant una oportunitat valuosa per a millorar les habilitats analítiques i tècniques."
   ]
  },
  {
   "cell_type": "markdown",
   "id": "487208bc-fb7a-433e-a27e-387c24f194c6",
   "metadata": {},
   "source": [
    "## Nivell 1\n",
    "\r\n"
   ]
  },
  {
   "cell_type": "markdown",
   "id": "48123c55-aaf7-4d10-9cbb-389da74076d0",
   "metadata": {},
   "source": [
    "Realitza la connexió en Python amb el MySQL Workbench per a carregar tota la informació que tens en les taules.\n",
    "\n",
    "Realitzaràs una visualització per a cada exercici. Comenta el que et crida l'atenció de graficar aquesta variable, justifica l'elecció del gràfic i interpreta els resultats en funció de les teves dades."
   ]
  },
  {
   "cell_type": "code",
   "execution_count": 5,
   "id": "103269b6-26a2-4361-9ce4-9d586d6d1970",
   "metadata": {},
   "outputs": [
    {
     "name": "stdout",
     "output_type": "stream",
     "text": [
      "Defaulting to user installation because normal site-packages is not writeable\n",
      "Collecting pymysql\n",
      "  Obtaining dependency information for pymysql from https://files.pythonhosted.org/packages/0c/94/e4181a1f6286f545507528c78016e00065ea913276888db2262507693ce5/PyMySQL-1.1.1-py3-none-any.whl.metadata\n",
      "  Downloading PyMySQL-1.1.1-py3-none-any.whl.metadata (4.4 kB)\n",
      "Downloading PyMySQL-1.1.1-py3-none-any.whl (44 kB)\n",
      "   ---------------------------------------- 0.0/45.0 kB ? eta -:--:--\n",
      "   ------------------------------------ --- 41.0/45.0 kB 653.6 kB/s eta 0:00:01\n",
      "   ---------------------------------------- 45.0/45.0 kB 551.3 kB/s eta 0:00:00\n",
      "Installing collected packages: pymysql\n",
      "Successfully installed pymysql-1.1.1\n",
      "Note: you may need to restart the kernel to use updated packages.\n"
     ]
    }
   ],
   "source": [
    "pip install pymysql"
   ]
  },
  {
   "cell_type": "markdown",
   "id": "db4af1eb-0105-468f-b961-6f2c8308d000",
   "metadata": {},
   "source": [
    "### SQL ALCHEMY"
   ]
  },
  {
   "cell_type": "markdown",
   "id": "505196d4-026f-49a1-be0f-e969819124b2",
   "metadata": {},
   "source": [
    "### Importar pandas, establir connexió, generar dataframes i importar llibreries"
   ]
  },
  {
   "cell_type": "code",
   "execution_count": null,
   "id": "3794927f-3a5e-4cee-b750-1859757fe2e9",
   "metadata": {},
   "outputs": [],
   "source": [
    "# Importar pandas\n",
    "import pandas as pd\n",
    "import sqlalchemy\n",
    "from sqlalchemy import create_engine, inspect, text\n",
    "\n",
    "#Importar altres llibreries\n",
    "import matplotlib.pyplot as plt #genera gràfics a partir de continguts en llistes, vector amb py i amb l'extensió NumPy\n",
    "import seaborn as sns #llibreria especialitzada en visualització de dades per py desenvolupada amb matplotlib  i ofereix interficie d'alt nivell\n",
    "#import squarify\n",
    "#import plotly.express as px\n",
    "import numpy as np\n",
    "import warnings\n",
    "\n",
    "#Establir connexió\n",
    "engine = create_engine(\"mysql+pymysql://root@localhost/ecommerce\")\n",
    "cnx = engine.connect()\n",
    "\n",
    "#Generar Dataframes\n",
    "inspector = inspect(engine)\n",
    "nombre_tablas = inspector.get_table_names()\n",
    "\n",
    "for table in nombre_tablas:\n",
    "    query = f\"select  * from {table}\"\n",
    "    globals ()[f\"df_{table}\"] = pd.read_sql(query, cnx)"
   ]
  },
  {
   "cell_type": "markdown",
   "id": "848d7d6f-ae68-452a-a9f7-bf0bc248ab78",
   "metadata": {
    "jp-MarkdownHeadingCollapsed": true
   },
   "source": [
    "### Importar pandas i establir connexió"
   ]
  },
  {
   "cell_type": "code",
   "execution_count": 4,
   "id": "cb04070a-412f-459c-9cb1-fbbd6fe2414f",
   "metadata": {},
   "outputs": [],
   "source": [
    "import pandas as pd\n",
    "import sqlalchemy\n",
    "from sqlalchemy import create_engine, inspect\n",
    "\n",
    "engine = create_engine(\"mysql+pymysql://root@localhost/ecommerce\")\n",
    "cnx = engine.connect()"
   ]
  },
  {
   "cell_type": "markdown",
   "id": "c7fe33c4-a291-4610-98d6-d5eedd63bab0",
   "metadata": {
    "jp-MarkdownHeadingCollapsed": true
   },
   "source": [
    "#### Importar taula per borrar"
   ]
  },
  {
   "cell_type": "code",
   "execution_count": null,
   "id": "80191dfa-37ca-4bdc-a0e5-ccd4750d87e2",
   "metadata": {},
   "outputs": [],
   "source": [
    "import pandas as pd\n",
    "import sqlalchemy\n",
    "from sqlalchemy import create_engine, inspect\n",
    "\n",
    "engine = create_engine(\"mysql+pymysql://root@localhost/borrar\")\n",
    "cnx = engine.connect()"
   ]
  },
  {
   "cell_type": "markdown",
   "id": "97e1728a-76e9-45d2-85be-549bc040b604",
   "metadata": {
    "jp-MarkdownHeadingCollapsed": true
   },
   "source": [
    "### Generar Dataframes"
   ]
  },
  {
   "cell_type": "code",
   "execution_count": 6,
   "id": "4c1dca2c-16a6-41f6-ba00-866d2f39e243",
   "metadata": {},
   "outputs": [],
   "source": [
    "inspector = inspect(engine)\n",
    "nombre_tablas = inspector.get_table_names()\n",
    "\n",
    "for table in nombre_tablas:\n",
    "    query = f\"select  * from {table}\"\n",
    "    globals ()[f\"df_{table}\"] = pd.read_sql(query, cnx)"
   ]
  },
  {
   "cell_type": "markdown",
   "id": "333d2845-56af-4c89-b0fd-a0474563d9ad",
   "metadata": {},
   "source": [
    "### Mostrar taules"
   ]
  },
  {
   "cell_type": "code",
   "execution_count": 12,
   "id": "6210b620-99d3-432e-b8d3-602a17efa3e0",
   "metadata": {},
   "outputs": [
    {
     "data": {
      "text/plain": [
       "['card_state',\n",
       " 'companies',\n",
       " 'credit_cards',\n",
       " 'product_transaction',\n",
       " 'products',\n",
       " 'transactions',\n",
       " 'users']"
      ]
     },
     "execution_count": 12,
     "metadata": {},
     "output_type": "execute_result"
    }
   ],
   "source": [
    "#print(nombre_tablas)\n",
    "nombre_tablas\n",
    "#df_transactions"
   ]
  },
  {
   "cell_type": "markdown",
   "id": "4a5c4f24-a6b1-4ce1-b910-faafecedb8b4",
   "metadata": {
    "jp-MarkdownHeadingCollapsed": true
   },
   "source": [
    "### Importar llibreries"
   ]
  },
  {
   "cell_type": "code",
   "execution_count": 14,
   "id": "ff4c28ec-9152-4bad-803d-99c82fcfd9c1",
   "metadata": {},
   "outputs": [],
   "source": [
    "import matplotlib.pyplot as plt #genera gràfics a partir de continguts en llistes, vector amb py i amb l'extensió NumPy\n",
    "import seaborn as sns #llibreria especialitzada en visualització de dades per py desenvolupada amb matplotlib  i ofereix interficie d'alt nivell\n",
    "#import squarify\n",
    "#import plotly.express as px\n",
    "import numpy as np\n",
    "import warnings"
   ]
  },
  {
   "cell_type": "markdown",
   "id": "af0dd8b4-cff2-448b-ad23-920c242c5d5c",
   "metadata": {},
   "source": [
    "### Sintàxis de pandas"
   ]
  },
  {
   "cell_type": "code",
   "execution_count": null,
   "id": "e16273f2-1236-49d8-b5b0-50ea8bbf646f",
   "metadata": {},
   "outputs": [],
   "source": [
    "df.head() # por defecto son 5\n",
    "df.head(8) # muestro primeras 8 \n",
    "df.tail(8) # muestro ultimos 8\n",
    "df.shape    #cantidad de filas (1°) y luego columnas\n",
    "df.describe() #estadísticas descriptivas\n",
    "\n",
    "tipos de datos:\n",
    "\n",
    "df.info() #todos los datos, tambien cantidad de valores no nulos.\n",
    "df.dtypes #todos los datos de todo el df, object=varchar\n",
    "df[\"columna\"].dtype #datos de esa columna"
   ]
  },
  {
   "cell_type": "code",
   "execution_count": 16,
   "id": "9c28f7c4-aed2-495a-a726-ab7a1e6156eb",
   "metadata": {},
   "outputs": [
    {
     "data": {
      "text/plain": [
       "count    587.000000\n",
       "mean     256.735520\n",
       "std      144.133895\n",
       "min       15.050000\n",
       "25%      131.115000\n",
       "50%      257.440000\n",
       "75%      389.900000\n",
       "max      499.230000\n",
       "Name: amount, dtype: float64"
      ]
     },
     "execution_count": 16,
     "metadata": {},
     "output_type": "execute_result"
    }
   ],
   "source": [
    "df_transactions[\"amount\"].describe()\n"
   ]
  },
  {
   "cell_type": "code",
   "execution_count": 25,
   "id": "3011f703-b695-4413-b087-4ce430dd0320",
   "metadata": {},
   "outputs": [
    {
     "data": {
      "text/plain": [
       "256.7355195911414"
      ]
     },
     "execution_count": 25,
     "metadata": {},
     "output_type": "execute_result"
    }
   ],
   "source": [
    "df_transactions[\"amount\"].mean()"
   ]
  },
  {
   "cell_type": "markdown",
   "id": "3aeb9a3b-69fb-4bdf-a590-469ad3db173f",
   "metadata": {},
   "source": [
    "### Merge"
   ]
  },
  {
   "cell_type": "code",
   "execution_count": null,
   "id": "4410e975-038d-4d09-bdd7-02afb11f107b",
   "metadata": {},
   "outputs": [],
   "source": [
    "df_merged = transactions_df.merge(transactions_products_df, how=\"inner\", left_on=\"id\", right_on=\"transaction_id\").merge(products_df, how=\"inner\", left_on=\"product_id\", right_on=\"id\")\n",
    "\n",
    "df_merged"
   ]
  },
  {
   "cell_type": "markdown",
   "id": "edc60ac0-10da-4098-8bb9-7c284cadb2a3",
   "metadata": {},
   "source": [
    "### Columnes calculades"
   ]
  },
  {
   "cell_type": "code",
   "execution_count": null,
   "id": "3d05b627-ab52-4229-b899-c2513ff34606",
   "metadata": {},
   "outputs": [],
   "source": [
    "#Suma columna calculada\n",
    "df_transactions2[“nombre_de_la_columna”] = df_merged [“long”] +  df_merged[“latitude”]\n",
    "\n",
    "#Where\n",
    "products_df[\"Over100andLight\"] = np.where((products_df[\"price\"] > 100) & (products_df[\"weight\"] < 1), \"Yes\", \"No\") \n",
    "#Un altre where\n",
    "products_df[products_df[\"Over100andLight\"] == \"Yes\"]\n",
    "\n",
    "#Múltiples condicions\n",
    "conditions = [\n",
    "    (products_df[\"weight\"] < 1.5),\n",
    "    (products_df[\"weight\"] >= 1.5) & (products_df[\"weight\"] < 3),\n",
    "    (products_df[\"weight\"] >= 3)\n",
    "]\n",
    "\n",
    "values = [\"light\", \"medium\", \"heavy\"]\n",
    "\n",
    "products_df[\"weight_category\"] = np.select(conditions, values)\n",
    "\n",
    "products_df\n"
   ]
  },
  {
   "cell_type": "markdown",
   "id": "c24d8542-f16f-4301-ba56-6eab4e22f31b",
   "metadata": {},
   "source": [
    "### Agrupar"
   ]
  },
  {
   "cell_type": "code",
   "execution_count": null,
   "id": "12818b4e-6c3c-451d-97a0-241aa77e8ba5",
   "metadata": {},
   "outputs": [],
   "source": [
    "#Agrupa el DataFrame per la columna de categories i calcula la suma dels valors per a cada categoria.\n",
    "data = {\n",
    "    'Category': ['A', 'A', 'B', 'B', 'C', 'C'],\n",
    "    'Values': [1, 2, 3, 4, 5, 6]\n",
    "}\n",
    "df = pd.DataFrame(data)\n",
    "\n",
    "grouped = df.groupby(\"Category\").sum()\n",
    "grouped"
   ]
  },
  {
   "cell_type": "markdown",
   "id": "15c388c5-2cb4-4fd4-beed-3f1a50102b20",
   "metadata": {},
   "source": [
    "### Borrar columna"
   ]
  },
  {
   "cell_type": "code",
   "execution_count": null,
   "id": "d5d1eaf5-afa0-4ab4-9d96-6e763e8b3c8e",
   "metadata": {},
   "outputs": [],
   "source": [
    "#Elimina una de les columnes originals.\n",
    "df[\"D\"] = df[\"A\"] + df[\"B\"] + df[\"C\"]\n",
    "\n",
    "df\n",
    "\n",
    "df = df.drop(\"B\", axis = 1)\n",
    "\n",
    "df"
   ]
  },
  {
   "cell_type": "markdown",
   "id": "17916fa2-0790-495a-8354-355a5a400e8e",
   "metadata": {},
   "source": [
    "#### Proba gràfic"
   ]
  },
  {
   "cell_type": "code",
   "execution_count": 35,
   "id": "d39dc592-ec9d-4905-86b0-f881c0ae1eb7",
   "metadata": {},
   "outputs": [
    {
     "data": {
      "text/plain": [
       "<Axes: xlabel='amount', ylabel='Count'>"
      ]
     },
     "execution_count": 35,
     "metadata": {},
     "output_type": "execute_result"
    },
    {
     "data": {
      "image/png": "[encoded data removed]",
      "text/plain": [
       "<Figure size 640x480 with 1 Axes>"
      ]
     },
     "metadata": {},
     "output_type": "display_data"
    }
   ],
   "source": [
    "sns.histplot(df_transactions[\"amount\"])"
   ]
  },
  {
   "cell_type": "markdown",
   "id": "085d4052-249b-4f9e-a147-5f5e5629363e",
   "metadata": {},
   "source": [
    "### Eliminar base de dades"
   ]
  },
  {
   "cell_type": "code",
   "execution_count": 39,
   "id": "d60ab253-1420-4d9e-bb47-a7e4d0a935c4",
   "metadata": {},
   "outputs": [
    {
     "data": {
      "text/plain": [
       "<sqlalchemy.engine.cursor.LegacyCursorResult at 0x23a3ff4d090>"
      ]
     },
     "execution_count": 39,
     "metadata": {},
     "output_type": "execute_result"
    }
   ],
   "source": [
    "cnx.execute(\"DROP DATABASE borrar\")"
   ]
  },
  {
   "cell_type": "markdown",
   "id": "021bb6a7-b782-4f58-9821-f12e5c1d3649",
   "metadata": {},
   "source": [
    "### Tancar connexió"
   ]
  },
  {
   "cell_type": "code",
   "execution_count": 18,
   "id": "095a8100-87eb-4c2c-93dd-1c2f8c901dd3",
   "metadata": {},
   "outputs": [],
   "source": [
    "cnx.close()"
   ]
  },
  {
   "cell_type": "markdown",
   "id": "ce504038-0568-40e8-bdd2-766dcf2b8368",
   "metadata": {},
   "source": [
    "### Comprovar que la connexió estigui tancada (resposta TRUE)"
   ]
  },
  {
   "cell_type": "code",
   "execution_count": 20,
   "id": "2947ea12-84ac-42d9-aa94-1bd271428174",
   "metadata": {},
   "outputs": [
    {
     "data": {
      "text/plain": [
       "True"
      ]
     },
     "execution_count": 20,
     "metadata": {},
     "output_type": "execute_result"
    }
   ],
   "source": [
    "cnx.closed"
   ]
  },
  {
   "cell_type": "markdown",
   "id": "123572bb-d0f9-462e-a396-733201bae3bb",
   "metadata": {},
   "source": [
    "### Desactivar engine"
   ]
  },
  {
   "cell_type": "code",
   "execution_count": 22,
   "id": "52648ef4-bc56-435b-bbbb-114dadc223f3",
   "metadata": {},
   "outputs": [],
   "source": [
    "engine.dispose()"
   ]
  }
 ],
 "metadata": {
  "kernelspec": {
   "display_name": "Python 3 (ipykernel)",
   "language": "python",
   "name": "python3"
  },
  "language_info": {
   "codemirror_mode": {
    "name": "ipython",
    "version": 3
   },
   "file_extension": ".py",
   "mimetype": "text/x-python",
   "name": "python",
   "nbconvert_exporter": "python",
   "pygments_lexer": "ipython3",
   "version": "3.11.5"
  }
 },
 "nbformat": 4,
 "nbformat_minor": 5
}
