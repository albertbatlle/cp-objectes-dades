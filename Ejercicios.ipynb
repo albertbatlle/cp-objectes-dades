{
 "cells": [
  {
   "cell_type": "markdown",
   "id": "e7fb6829",
   "metadata": {},
   "source": [
    "### Ejercicio 00: Operaciones Básicas"
   ]
  },
  {
   "cell_type": "markdown",
   "id": "8a690bfe",
   "metadata": {},
   "source": [
    "#### Realiza las siguientes operaciones lógicas básicas y escribe el resultado."
   ]
  },
  {
   "cell_type": "markdown",
   "id": "4da744bd",
   "metadata": {},
   "source": [
    "0101 AND 0011 -> 0001"
   ]
  },
  {
   "cell_type": "markdown",
   "id": "2d90d80c",
   "metadata": {},
   "source": [
    "1100 OR 1010 -> 1110"
   ]
  },
  {
   "cell_type": "markdown",
   "id": "34fc56ef",
   "metadata": {},
   "source": [
    "NOT 0001 -> 1110"
   ]
  },
  {
   "cell_type": "markdown",
   "id": "af0e0981",
   "metadata": {},
   "source": [
    "0110 XOR 1100 -> 1010"
   ]
  },
  {
   "cell_type": "markdown",
   "id": "8388ca35",
   "metadata": {},
   "source": [
    "### Ejercicio 01: Combinando Operaciones"
   ]
  },
  {
   "cell_type": "markdown",
   "id": "6f1078cf",
   "metadata": {},
   "source": [
    "#### Usa combinaciones de operaciones para obtener el resultado deseado."
   ]
  },
  {
   "cell_type": "markdown",
   "id": "ed8457e3",
   "metadata": {},
   "source": [
    "(0101 OR 0011) AND 0110 -> (0111) AND 0110 -> 0110"
   ]
  },
  {
   "cell_type": "markdown",
   "id": "b8dd648e",
   "metadata": {},
   "source": [
    "NOT (1100 AND 1010) -> 0111"
   ]
  },
  {
   "cell_type": "markdown",
   "id": "8d6f9546",
   "metadata": {},
   "source": [
    "(0111 XOR 1101) OR 0011 -> 1010 OR 0011 -> 1011"
   ]
  }
 ],
 "metadata": {
  "kernelspec": {
   "display_name": "Python 3 (ipykernel)",
   "language": "python",
   "name": "python3"
  },
  "language_info": {
   "codemirror_mode": {
    "name": "ipython",
    "version": 3
   },
   "file_extension": ".py",
   "mimetype": "text/x-python",
   "name": "python",
   "nbconvert_exporter": "python",
   "pygments_lexer": "ipython3",
   "version": "3.11.5"
  }
 },
 "nbformat": 4,
 "nbformat_minor": 5
}
