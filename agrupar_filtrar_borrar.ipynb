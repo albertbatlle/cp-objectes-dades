{
 "cells": [
  {
   "cell_type": "code",
   "execution_count": 11,
   "id": "701fa7ae-21e0-43c1-b9ba-bc1bb7979785",
   "metadata": {},
   "outputs": [
    {
     "name": "stdout",
     "output_type": "stream",
     "text": [
      "   calories  duration   kgs\n",
      "0       420        50  65.5\n",
      "1       380        40  58.9\n",
      "2       390        45  55.4\n"
     ]
    }
   ],
   "source": [
    "import pandas as pd\n",
    "\n",
    "data = {\n",
    "  \"calories\": [420, 380, 390],\n",
    "  \"duration\": [50, 40, 45]\n",
    "}\n",
    "\n",
    "myvar = pd.DataFrame(data)\n",
    "myvar.insert(2, \"kgs\", [65.5, 58.9, 55.4])\n",
    "\n",
    "\n",
    "\n",
    "print(myvar)\n"
   ]
  },
  {
   "cell_type": "code",
   "execution_count": 17,
   "id": "6ca472ee-952d-43cb-ab0d-04023996d9ce",
   "metadata": {},
   "outputs": [
    {
     "name": "stdout",
     "output_type": "stream",
     "text": [
      "a    5\n",
      "b    5\n",
      "c    5\n",
      "d    5\n",
      "dtype: int64\n"
     ]
    }
   ],
   "source": [
    "s = pd.Series(5, index=['a', 'b', 'c', 'd'])\n",
    "print(s)\n"
   ]
  },
  {
   "cell_type": "code",
   "execution_count": 19,
   "id": "d7235bf1-7128-4e59-a21b-3d1499d0d135",
   "metadata": {},
   "outputs": [
    {
     "name": "stdout",
     "output_type": "stream",
     "text": [
      "a    5\n",
      "b    5\n",
      "c    5\n",
      "dtype: int64\n",
      "a    5\n",
      "b    5\n",
      "dtype: int64\n"
     ]
    }
   ],
   "source": [
    "print(s['a':'c'])  # Inclou 'c'\n",
    "print(s[0:2])      # No inclou l'element de la posició 2\n"
   ]
  },
  {
   "cell_type": "code",
   "execution_count": 21,
   "id": "e0e6499a-045d-4b2c-9de8-277f1c608ed4",
   "metadata": {},
   "outputs": [
    {
     "name": "stdout",
     "output_type": "stream",
     "text": [
      "Series([], dtype: int64)\n"
     ]
    }
   ],
   "source": [
    "print(s[s > 20])\n"
   ]
  },
  {
   "cell_type": "code",
   "execution_count": 23,
   "id": "1f47aa03-bd5d-4ca5-9c35-c8a4f769d79a",
   "metadata": {},
   "outputs": [
    {
     "name": "stdout",
     "output_type": "stream",
     "text": [
      "   columna1  columna2\n",
      "0         1        10\n",
      "1         2        20\n",
      "2         3        30\n"
     ]
    }
   ],
   "source": [
    "data = [\n",
    "    {'columna1': 1, 'columna2': 10},\n",
    "    {'columna1': 2, 'columna2': 20},\n",
    "    {'columna1': 3, 'columna2': 30}\n",
    "]\n",
    "df = pd.DataFrame(data)\n",
    "print(df)\n"
   ]
  },
  {
   "cell_type": "code",
   "execution_count": 29,
   "id": "09d48533-c470-49c9-a79c-8867ef0834c8",
   "metadata": {},
   "outputs": [
    {
     "name": "stdout",
     "output_type": "stream",
     "text": [
      "35\n"
     ]
    }
   ],
   "source": [
    "#Exercicis amb Series\n",
    "#Exercici 1: Creació i indexació\n",
    "#Crea una Series a partir d'una llista de 10 elements.\n",
    "import pandas as pd\n",
    "a = [15, 26, 35, 44, 86, 28, 64, 74, 56, 48]\n",
    "\n",
    "myvar_a = pd.Series(a, index = [\"x\", \"y\", \"z\", \"p\", \"r\", \"t\", \"q\", \"w\", \"u\", \"c\"])\n",
    "\n",
    "print(myvar_a[2])\n",
    "                    \n"
   ]
  },
  {
   "cell_type": "code",
   "execution_count": 31,
   "id": "ad2a7795-4ff4-4b87-90d9-91d900d05dca",
   "metadata": {},
   "outputs": [
    {
     "name": "stdout",
     "output_type": "stream",
     "text": [
      "0     69\n",
      "1    124\n",
      "2     24\n",
      "3     28\n",
      "4     53\n",
      "dtype: int64\n",
      "\n",
      "0    90\n",
      "1    72\n",
      "2    16\n",
      "3    38\n",
      "4    48\n",
      "dtype: int64\n"
     ]
    }
   ],
   "source": [
    "#Exercici 2: Operacions aritmètiques\n",
    "#Crea dues Series de 5 elements cadascuna.\n",
    "#Suma les dues Series.\n",
    "#Multiplica la primera Series per 2.\n",
    "b = pd.Series([45, 36, 8, 19, 24])\n",
    "d = pd.Series([24, 88, 16, 9, 29])\n",
    "\n",
    "print(b+d)\n",
    "print()\n",
    "print(b*2)\n",
    "\n"
   ]
  },
  {
   "cell_type": "code",
   "execution_count": 37,
   "id": "1d6b6fc1-d452-429b-b4bd-70dcaebf5e43",
   "metadata": {},
   "outputs": [
    {
     "name": "stdout",
     "output_type": "stream",
     "text": [
      "2    9\n",
      "4    6\n",
      "dtype: int64\n",
      "\n",
      "3    5\n",
      "dtype: int64\n"
     ]
    }
   ],
   "source": [
    "#Exercici 3: Filtrat\n",
    "#Crea una Series amb valors enters de 0 a 9.\n",
    "#Filtra i mostra només els elements que són més grans que 5.\n",
    "\n",
    "f = pd.Series([4, 3, 9, 5, 6, 1, 2])\n",
    "print(f[f>5])\n",
    "print()\n",
    "print(f[f==5])"
   ]
  },
  {
   "cell_type": "code",
   "execution_count": 7,
   "id": "77c8e157-ce44-46cb-95b1-46f811660a6d",
   "metadata": {},
   "outputs": [
    {
     "name": "stdout",
     "output_type": "stream",
     "text": [
      "0    16\n",
      "1    81\n",
      "2     9\n",
      "3    49\n",
      "4    36\n",
      "dtype: int64\n"
     ]
    }
   ],
   "source": [
    "#Exercici 4: Aplicar funcions\n",
    "#Crea una Series amb 5 valors aleatoris entre 1 i 10.\n",
    "#Aplica una funció que elevi cada element al quadrat.\n",
    "import numpy as np\n",
    "#numeros = [4, 9, 3, 7, 6]\n",
    "#myvar_g = pd.Series(numeros)\n",
    "myvar_g = pd.Series([4, 9, 3, 7, 6])\n",
    "#myvar_g = pd.Series(np.random.randint(1, 11, 5))\n",
    "print(myvar_g.apply(lambda x: x ** 2))\n"
   ]
  },
  {
   "cell_type": "code",
   "execution_count": 25,
   "id": "0f997e24-419b-49f9-a288-01a8e27fb467",
   "metadata": {},
   "outputs": [
    {
     "name": "stdout",
     "output_type": "stream",
     "text": [
      "      col1     col2     col3\n",
      "0  llista1  llista2  llista3\n",
      "1       24       37       28\n",
      "2       36       29       63\n",
      "\n",
      "28\n",
      "\n"
     ]
    },
    {
     "data": {
      "text/plain": [
       "29"
      ]
     },
     "execution_count": 25,
     "metadata": {},
     "output_type": "execute_result"
    }
   ],
   "source": [
    "#Exercicis amb DataFrame\n",
    "#Exercici 1: Creació i accés a dades\n",
    "#Crea un DataFrame a partir d'un diccionari de llistes. El diccionari ha de tenir tres claus, cadascuna amb una llista de 5 elements.\n",
    "#Mostra les primeres 3 files del DataFrame.\n",
    "#Accedeix a la segona columna del DataFrame.\n",
    "data = {\n",
    "    'col1' : [\"llista1\", 24, 36, 48, 92 ],\n",
    "    'col2' : [\"llista2\", 37, 29, 65, 35],\n",
    "    'col3' : [\"llista3\", 28, 63, 44, 99]\n",
    "}\n",
    "\n",
    "df = pd.DataFrame(data)\n",
    "print(df.head(3))\n",
    "print()\n",
    "\n",
    "#iloc fila columna\n",
    "print(df.iloc[1, 2])\n",
    "print()\n",
    "df.iloc[1,2]\n",
    "#print(df['col1'])\n",
    "df[\"col2\"].loc[2]"
   ]
  },
  {
   "cell_type": "code",
   "execution_count": 22,
   "id": "fba82844-df12-4d59-99cc-989c8addcbfa",
   "metadata": {},
   "outputs": [
    {
     "data": {
      "text/html": [
       "<div>\n",
       "<style scoped>\n",
       "    .dataframe tbody tr th:only-of-type {\n",
       "        vertical-align: middle;\n",
       "    }\n",
       "\n",
       "    .dataframe tbody tr th {\n",
       "        vertical-align: top;\n",
       "    }\n",
       "\n",
       "    .dataframe thead th {\n",
       "        text-align: right;\n",
       "    }\n",
       "</style>\n",
       "<table border=\"1\" class=\"dataframe\">\n",
       "  <thead>\n",
       "    <tr style=\"text-align: right;\">\n",
       "      <th></th>\n",
       "      <th>index</th>\n",
       "      <th>Albert</th>\n",
       "    </tr>\n",
       "  </thead>\n",
       "  <tbody>\n",
       "    <tr>\n",
       "      <th>0</th>\n",
       "      <td>1</td>\n",
       "      <td>6</td>\n",
       "    </tr>\n",
       "  </tbody>\n",
       "</table>\n",
       "</div>"
      ],
      "text/plain": [
       "   index  Albert\n",
       "0      1       6"
      ]
     },
     "execution_count": 22,
     "metadata": {},
     "output_type": "execute_result"
    }
   ],
   "source": [
    "#Exercici 2: Selecció i filtrat\n",
    "#Crea un DataFrame amb 3 columnes i 6 files, amb valors enters aleatoris entre 1 i 20.\n",
    "#Selecciona i mostra les files on els valors de la segona columna siguin més grans que 10.\n",
    "#Selecciona i mostra només les columnes 1 i 3.\n",
    "data = {\n",
    "    'col1' : (np.random.randint(1, 21, 3)),\n",
    "    'col2' : (np.random.randint(1, 21, 3)),\n",
    "    'col3' : (np.random.randint(1, 21, 3))\n",
    "}\n",
    "\n",
    "df = pd.DataFrame(data)\n",
    "df.columns = ['A', 'B', 'C']\n",
    "\n",
    "#print(df)\n",
    "#print()\n",
    "#print(df['A'])\n",
    "\n",
    "#Reset_index() investigar\n",
    "df['B'][df['B'] > 5].reset_index(name=\"Albert\")\n",
    "\n",
    "#df['B filtrado'] = np.where(df['B'] >10)\n",
    "\n",
    "\n",
    "#mayor = np.where((df['B']) > 10)\n",
    "#mayor\n",
    "#print(df.iloc[[1, 3]])"
   ]
  },
  {
   "cell_type": "code",
   "execution_count": 35,
   "id": "dace6b9a-0dfd-4a74-8d7b-5a090da9bc1c",
   "metadata": {},
   "outputs": [
    {
     "name": "stdout",
     "output_type": "stream",
     "text": [
      "\n"
     ]
    },
    {
     "data": {
      "text/html": [
       "<div>\n",
       "<style scoped>\n",
       "    .dataframe tbody tr th:only-of-type {\n",
       "        vertical-align: middle;\n",
       "    }\n",
       "\n",
       "    .dataframe tbody tr th {\n",
       "        vertical-align: top;\n",
       "    }\n",
       "\n",
       "    .dataframe thead th {\n",
       "        text-align: right;\n",
       "    }\n",
       "</style>\n",
       "<table border=\"1\" class=\"dataframe\">\n",
       "  <thead>\n",
       "    <tr style=\"text-align: right;\">\n",
       "      <th></th>\n",
       "      <th>A</th>\n",
       "      <th>C</th>\n",
       "      <th>D</th>\n",
       "    </tr>\n",
       "  </thead>\n",
       "  <tbody>\n",
       "    <tr>\n",
       "      <th>0</th>\n",
       "      <td>2</td>\n",
       "      <td>2</td>\n",
       "      <td>7</td>\n",
       "    </tr>\n",
       "    <tr>\n",
       "      <th>1</th>\n",
       "      <td>5</td>\n",
       "      <td>8</td>\n",
       "      <td>19</td>\n",
       "    </tr>\n",
       "    <tr>\n",
       "      <th>2</th>\n",
       "      <td>3</td>\n",
       "      <td>8</td>\n",
       "      <td>15</td>\n",
       "    </tr>\n",
       "  </tbody>\n",
       "</table>\n",
       "</div>"
      ],
      "text/plain": [
       "   A  C   D\n",
       "0  2  2   7\n",
       "1  5  8  19\n",
       "2  3  8  15"
      ]
     },
     "execution_count": 35,
     "metadata": {},
     "output_type": "execute_result"
    }
   ],
   "source": [
    "#Exercici 3: Afegir i eliminar columnes\n",
    "#Afegeix una nova columna al DataFrame anterior que sigui la suma de les altres dues columnes.\n",
    "#Elimina una de les columnes originals.\n",
    "df[\"D\"] = df[\"A\"] + df[\"B\"] + df[\"C\"]\n",
    "\n",
    "df\n",
    "\n",
    "df = df.drop(\"B\", axis = 1)\n",
    "\n",
    "df"
   ]
  },
  {
   "cell_type": "code",
   "execution_count": 39,
   "id": "54fd0ab2-c5e8-4734-9148-284673732eab",
   "metadata": {},
   "outputs": [
    {
     "data": {
      "text/html": [
       "<div>\n",
       "<style scoped>\n",
       "    .dataframe tbody tr th:only-of-type {\n",
       "        vertical-align: middle;\n",
       "    }\n",
       "\n",
       "    .dataframe tbody tr th {\n",
       "        vertical-align: top;\n",
       "    }\n",
       "\n",
       "    .dataframe thead th {\n",
       "        text-align: right;\n",
       "    }\n",
       "</style>\n",
       "<table border=\"1\" class=\"dataframe\">\n",
       "  <thead>\n",
       "    <tr style=\"text-align: right;\">\n",
       "      <th></th>\n",
       "      <th>Values</th>\n",
       "    </tr>\n",
       "    <tr>\n",
       "      <th>Category</th>\n",
       "      <th></th>\n",
       "    </tr>\n",
       "  </thead>\n",
       "  <tbody>\n",
       "    <tr>\n",
       "      <th>A</th>\n",
       "      <td>3</td>\n",
       "    </tr>\n",
       "    <tr>\n",
       "      <th>B</th>\n",
       "      <td>7</td>\n",
       "    </tr>\n",
       "    <tr>\n",
       "      <th>C</th>\n",
       "      <td>11</td>\n",
       "    </tr>\n",
       "  </tbody>\n",
       "</table>\n",
       "</div>"
      ],
      "text/plain": [
       "          Values\n",
       "Category        \n",
       "A              3\n",
       "B              7\n",
       "C             11"
      ]
     },
     "execution_count": 39,
     "metadata": {},
     "output_type": "execute_result"
    }
   ],
   "source": [
    "#Exercici 4: Agrupar i agregar\n",
    "#Crea un DataFrame amb dues columnes: una amb noms de categories (com 'A', 'B', 'C') i una altra amb valors enters.\n",
    "#Agrupa el DataFrame per la columna de categories i calcula la suma dels valors per a cada categoria.\n",
    "data = {\n",
    "    'Category': ['A', 'A', 'B', 'B', 'C', 'C'],\n",
    "    'Values': [1, 2, 3, 4, 5, 6]\n",
    "}\n",
    "df = pd.DataFrame(data)\n",
    "\n",
    "grouped = df.groupby(\"Category\").sum()\n",
    "grouped"
   ]
  },
  {
   "cell_type": "code",
   "execution_count": 43,
   "id": "24545e7c-c74b-40db-b2ad-9ee5ec239217",
   "metadata": {},
   "outputs": [
    {
     "name": "stdout",
     "output_type": "stream",
     "text": [
      "<class 'pandas.core.frame.DataFrame'>\n",
      "Index: 3 entries, A to C\n",
      "Data columns (total 1 columns):\n",
      " #   Column  Non-Null Count  Dtype\n",
      "---  ------  --------------  -----\n",
      " 0   Values  3 non-null      int64\n",
      "dtypes: int64(1)\n",
      "memory usage: 48.0+ bytes\n"
     ]
    }
   ],
   "source": [
    "grouped.info()"
   ]
  },
  {
   "cell_type": "code",
   "execution_count": 45,
   "id": "d07ac73e-b04b-43f7-93c8-f2c9de5c4fe8",
   "metadata": {},
   "outputs": [
    {
     "data": {
      "text/plain": [
       "Values    int64\n",
       "dtype: object"
      ]
     },
     "execution_count": 45,
     "metadata": {},
     "output_type": "execute_result"
    }
   ],
   "source": [
    "grouped.dtypes"
   ]
  }
 ],
 "metadata": {
  "kernelspec": {
   "display_name": "Python 3 (ipykernel)",
   "language": "python",
   "name": "python3"
  },
  "language_info": {
   "codemirror_mode": {
    "name": "ipython",
    "version": 3
   },
   "file_extension": ".py",
   "mimetype": "text/x-python",
   "name": "python",
   "nbconvert_exporter": "python",
   "pygments_lexer": "ipython3",
   "version": "3.11.5"
  }
 },
 "nbformat": 4,
 "nbformat_minor": 5
}
