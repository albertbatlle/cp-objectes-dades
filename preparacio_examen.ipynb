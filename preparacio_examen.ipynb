{
 "cells": [
  {
   "cell_type": "markdown",
   "id": "9e3939cd-f3d0-4627-b325-642059936556",
   "metadata": {},
   "source": [
    "Para los que van a la prueba 2, puntos que pueden repasar:\r\n",
    "se entregara la bbdd para cargar en mysql tal cual la prueba 1\r\n",
    "conexión a mysql: cualquiera, lo único que cambiará será el nombre de la nueva bbdd\r\n",
    "guardar tablas en df\r\n",
    "mostrar información de un df: primeras filas, últimas filas, tipos de datos, cantidad de filas, cantidad de columnas, etc\r\n",
    "crear una nueva columna partiendo de alguna/s ya conocidas, tipo: monto total desde cantidad y precio, 1 y 0 sin cumple alguna condición; bajo, medio o alto si cumple alguna condición, etc\r\n",
    "gráfica de una variable categórica\r\n",
    "gráfica de una variable numérica\r\n",
    "Lo que sigue pueden probar tomando las variables desde la misma tabla y desde tablas diferentes:\r\n",
    "gráfica que relacione 2 variables numéricas\r\n",
    "gráfica de 1 variable numérica y 1 categórica\r\n",
    "gráfica de 2 variables categóricas y 1 numérica\r\n",
    "1  gráfica que quieran en power bi\r\n",
    "eliminar la base de datos y cerrar conexiones conexiones"
   ]
  }
 ],
 "metadata": {
  "kernelspec": {
   "display_name": "Python 3 (ipykernel)",
   "language": "python",
   "name": "python3"
  },
  "language_info": {
   "codemirror_mode": {
    "name": "ipython",
    "version": 3
   },
   "file_extension": ".py",
   "mimetype": "text/x-python",
   "name": "python",
   "nbconvert_exporter": "python",
   "pygments_lexer": "ipython3",
   "version": "3.11.5"
  }
 },
 "nbformat": 4,
 "nbformat_minor": 5
}
