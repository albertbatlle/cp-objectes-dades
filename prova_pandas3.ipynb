{
 "cells": [
  {
   "cell_type": "markdown",
   "id": "c07bc037-928c-4e33-a516-6dbae4817d24",
   "metadata": {},
   "source": [
    "## Com afegir columnes al Dataframe"
   ]
  },
  {
   "cell_type": "code",
   "execution_count": 7,
   "id": "b7d06355-5271-472c-94be-bcf20d7b9ad4",
   "metadata": {},
   "outputs": [
    {
     "data": {
      "text/html": [
       "<div>\n",
       "<style scoped>\n",
       "    .dataframe tbody tr th:only-of-type {\n",
       "        vertical-align: middle;\n",
       "    }\n",
       "\n",
       "    .dataframe tbody tr th {\n",
       "        vertical-align: top;\n",
       "    }\n",
       "\n",
       "    .dataframe thead th {\n",
       "        text-align: right;\n",
       "    }\n",
       "</style>\n",
       "<table border=\"1\" class=\"dataframe\">\n",
       "  <thead>\n",
       "    <tr style=\"text-align: right;\">\n",
       "      <th></th>\n",
       "      <th>nombre</th>\n",
       "      <th>edad</th>\n",
       "      <th>dni</th>\n",
       "      <th>email</th>\n",
       "      <th>profesiones</th>\n",
       "      <th>sueldo</th>\n",
       "    </tr>\n",
       "  </thead>\n",
       "  <tbody>\n",
       "    <tr>\n",
       "      <th>0</th>\n",
       "      <td>Pere</td>\n",
       "      <td>30</td>\n",
       "      <td>45623817T</td>\n",
       "      <td>pere@mail.com</td>\n",
       "      <td>matemático</td>\n",
       "      <td>45000.0</td>\n",
       "    </tr>\n",
       "    <tr>\n",
       "      <th>1</th>\n",
       "      <td>Joan</td>\n",
       "      <td>33</td>\n",
       "      <td>67845239S</td>\n",
       "      <td>joan@bombers.cat</td>\n",
       "      <td>bombero</td>\n",
       "      <td>25000.0</td>\n",
       "    </tr>\n",
       "    <tr>\n",
       "      <th>2</th>\n",
       "      <td>Núria</td>\n",
       "      <td>28</td>\n",
       "      <td>78465923P</td>\n",
       "      <td>nuriabc@catsalut.cat</td>\n",
       "      <td>doctora</td>\n",
       "      <td>40000.0</td>\n",
       "    </tr>\n",
       "  </tbody>\n",
       "</table>\n",
       "</div>"
      ],
      "text/plain": [
       "  nombre  edad        dni                 email profesiones   sueldo\n",
       "0   Pere    30  45623817T         pere@mail.com  matemático  45000.0\n",
       "1   Joan    33  67845239S      joan@bombers.cat     bombero  25000.0\n",
       "2  Núria    28  78465923P  nuriabc@catsalut.cat     doctora  40000.0"
      ]
     },
     "execution_count": 7,
     "metadata": {},
     "output_type": "execute_result"
    }
   ],
   "source": [
    "import pandas as pd\n",
    "\n",
    "personas = {\n",
    "    \"nombre\": [\"Pere\", \"Joan\", \"Núria\"],\n",
    "    \"edad\": [30, 33, 28],\n",
    "    \"dni\": [\"45623817T\", \"67845239S\", \"78465923P\"]\n",
    "}\n",
    "\n",
    "df = pd.DataFrame(personas)\n",
    "df\n",
    "\n",
    "#Sintàxis bàsica\n",
    "df[\"profesiones\"] = [\"matemático\", \"bombero\", \"doctora\"]\n",
    "df\n",
    "\n",
    "#Mètode assign\n",
    "df = df.assign(sueldo = [45e3, 25e3, 40e3])\n",
    "df\n",
    "\n",
    "#Mètode insert\n",
    "df.insert(3, \"email\", [\"pere@mail.com\", \"joan@bombers.cat\", \"nuriabc@catsalut.cat\"])\n",
    "df"
   ]
  },
  {
   "cell_type": "markdown",
   "id": "619da06d-083a-4c91-b68e-cddc450f3bd4",
   "metadata": {},
   "source": [
    "### Com obtenir files d'un DataFrame"
   ]
  },
  {
   "cell_type": "code",
   "execution_count": 15,
   "id": "39f7e207-7b85-46eb-bd23-36ff01d41b34",
   "metadata": {},
   "outputs": [
    {
     "name": "stdout",
     "output_type": "stream",
     "text": [
      "0    False\n",
      "1     True\n",
      "2    False\n",
      "Name: nombre, dtype: bool\n"
     ]
    },
    {
     "data": {
      "text/html": [
       "<div>\n",
       "<style scoped>\n",
       "    .dataframe tbody tr th:only-of-type {\n",
       "        vertical-align: middle;\n",
       "    }\n",
       "\n",
       "    .dataframe tbody tr th {\n",
       "        vertical-align: top;\n",
       "    }\n",
       "\n",
       "    .dataframe thead th {\n",
       "        text-align: right;\n",
       "    }\n",
       "</style>\n",
       "<table border=\"1\" class=\"dataframe\">\n",
       "  <thead>\n",
       "    <tr style=\"text-align: right;\">\n",
       "      <th></th>\n",
       "      <th>nombre</th>\n",
       "      <th>edad</th>\n",
       "      <th>dni</th>\n",
       "      <th>email</th>\n",
       "      <th>profesiones</th>\n",
       "      <th>sueldo</th>\n",
       "    </tr>\n",
       "  </thead>\n",
       "  <tbody>\n",
       "    <tr>\n",
       "      <th>1</th>\n",
       "      <td>Joan</td>\n",
       "      <td>33</td>\n",
       "      <td>67845239S</td>\n",
       "      <td>joan@bombers.cat</td>\n",
       "      <td>bombero</td>\n",
       "      <td>25000.0</td>\n",
       "    </tr>\n",
       "  </tbody>\n",
       "</table>\n",
       "</div>"
      ],
      "text/plain": [
       "  nombre  edad        dni             email profesiones   sueldo\n",
       "1   Joan    33  67845239S  joan@bombers.cat     bombero  25000.0"
      ]
     },
     "execution_count": 15,
     "metadata": {},
     "output_type": "execute_result"
    }
   ],
   "source": [
    "#Sintàxis bàsica\n",
    "condicio = df[\"nombre\"] == \"Joan\"\n",
    "print(condicio)\n",
    "df [condicio ]"
   ]
  },
  {
   "cell_type": "code",
   "execution_count": 21,
   "id": "25cc3d54-b2cc-46f7-925b-ffe9e3d2c62d",
   "metadata": {},
   "outputs": [
    {
     "data": {
      "text/html": [
       "<div>\n",
       "<style scoped>\n",
       "    .dataframe tbody tr th:only-of-type {\n",
       "        vertical-align: middle;\n",
       "    }\n",
       "\n",
       "    .dataframe tbody tr th {\n",
       "        vertical-align: top;\n",
       "    }\n",
       "\n",
       "    .dataframe thead th {\n",
       "        text-align: right;\n",
       "    }\n",
       "</style>\n",
       "<table border=\"1\" class=\"dataframe\">\n",
       "  <thead>\n",
       "    <tr style=\"text-align: right;\">\n",
       "      <th></th>\n",
       "      <th>nombre</th>\n",
       "      <th>edad</th>\n",
       "      <th>dni</th>\n",
       "      <th>email</th>\n",
       "      <th>profesiones</th>\n",
       "      <th>sueldo</th>\n",
       "    </tr>\n",
       "  </thead>\n",
       "  <tbody>\n",
       "    <tr>\n",
       "      <th>0</th>\n",
       "      <td>Pere</td>\n",
       "      <td>30</td>\n",
       "      <td>45623817T</td>\n",
       "      <td>pere@mail.com</td>\n",
       "      <td>matemático</td>\n",
       "      <td>45000.0</td>\n",
       "    </tr>\n",
       "    <tr>\n",
       "      <th>2</th>\n",
       "      <td>Núria</td>\n",
       "      <td>28</td>\n",
       "      <td>78465923P</td>\n",
       "      <td>nuriabc@catsalut.cat</td>\n",
       "      <td>doctora</td>\n",
       "      <td>40000.0</td>\n",
       "    </tr>\n",
       "  </tbody>\n",
       "</table>\n",
       "</div>"
      ],
      "text/plain": [
       "  nombre  edad        dni                 email profesiones   sueldo\n",
       "0   Pere    30  45623817T         pere@mail.com  matemático  45000.0\n",
       "2  Núria    28  78465923P  nuriabc@catsalut.cat     doctora  40000.0"
      ]
     },
     "execution_count": 21,
     "metadata": {},
     "output_type": "execute_result"
    }
   ],
   "source": [
    "#Mètode isin\n",
    "condicio = df.email.isin([\"pere@mail.com\", \"joana@bombers.cat\"]) | df.nombre.isin([\"Núria\"])\n",
    "df[condicio]"
   ]
  },
  {
   "cell_type": "code",
   "execution_count": 37,
   "id": "710ef445-e672-4203-ad21-5efe6b9d2932",
   "metadata": {},
   "outputs": [
    {
     "data": {
      "text/html": [
       "<div>\n",
       "<style scoped>\n",
       "    .dataframe tbody tr th:only-of-type {\n",
       "        vertical-align: middle;\n",
       "    }\n",
       "\n",
       "    .dataframe tbody tr th {\n",
       "        vertical-align: top;\n",
       "    }\n",
       "\n",
       "    .dataframe thead th {\n",
       "        text-align: right;\n",
       "    }\n",
       "</style>\n",
       "<table border=\"1\" class=\"dataframe\">\n",
       "  <thead>\n",
       "    <tr style=\"text-align: right;\">\n",
       "      <th></th>\n",
       "      <th>dni</th>\n",
       "      <th>email</th>\n",
       "    </tr>\n",
       "  </thead>\n",
       "  <tbody>\n",
       "    <tr>\n",
       "      <th>0</th>\n",
       "      <td>45623817T</td>\n",
       "      <td>pere@mail.com</td>\n",
       "    </tr>\n",
       "    <tr>\n",
       "      <th>1</th>\n",
       "      <td>67845239S</td>\n",
       "      <td>joan@bombers.cat</td>\n",
       "    </tr>\n",
       "  </tbody>\n",
       "</table>\n",
       "</div>"
      ],
      "text/plain": [
       "         dni             email\n",
       "0  45623817T     pere@mail.com\n",
       "1  67845239S  joan@bombers.cat"
      ]
     },
     "execution_count": 37,
     "metadata": {},
     "output_type": "execute_result"
    }
   ],
   "source": [
    "#Mètode iloc\n",
    "df.iloc[[0, 1], [2,3]] \n",
    "#si enlloc de posar [2,3] posem : ens mostrarà totes les dades de les columnes"
   ]
  },
  {
   "cell_type": "code",
   "execution_count": 51,
   "id": "2695d58b-8f5f-4b4a-bfa5-c997a9f2efa8",
   "metadata": {},
   "outputs": [
    {
     "data": {
      "text/html": [
       "<div>\n",
       "<style scoped>\n",
       "    .dataframe tbody tr th:only-of-type {\n",
       "        vertical-align: middle;\n",
       "    }\n",
       "\n",
       "    .dataframe tbody tr th {\n",
       "        vertical-align: top;\n",
       "    }\n",
       "\n",
       "    .dataframe thead th {\n",
       "        text-align: right;\n",
       "    }\n",
       "</style>\n",
       "<table border=\"1\" class=\"dataframe\">\n",
       "  <thead>\n",
       "    <tr style=\"text-align: right;\">\n",
       "      <th></th>\n",
       "      <th>dni</th>\n",
       "      <th>email</th>\n",
       "    </tr>\n",
       "    <tr>\n",
       "      <th>nombre</th>\n",
       "      <th></th>\n",
       "      <th></th>\n",
       "    </tr>\n",
       "  </thead>\n",
       "  <tbody>\n",
       "    <tr>\n",
       "      <th>Pere</th>\n",
       "      <td>45623817T</td>\n",
       "      <td>pere@mail.com</td>\n",
       "    </tr>\n",
       "    <tr>\n",
       "      <th>Núria</th>\n",
       "      <td>78465923P</td>\n",
       "      <td>nuriabc@catsalut.cat</td>\n",
       "    </tr>\n",
       "  </tbody>\n",
       "</table>\n",
       "</div>"
      ],
      "text/plain": [
       "              dni                 email\n",
       "nombre                                 \n",
       "Pere    45623817T         pere@mail.com\n",
       "Núria   78465923P  nuriabc@catsalut.cat"
      ]
     },
     "execution_count": 51,
     "metadata": {},
     "output_type": "execute_result"
    }
   ],
   "source": [
    "#Mètode set_index and loc\n",
    "nombres = df.set_index(\"nombre\")\n",
    "#print(nombres)\n",
    "nombres.loc[[\"Pere\", \"Núria\"], [\"dni\", \"email\"]]"
   ]
  }
 ],
 "metadata": {
  "kernelspec": {
   "display_name": "Python 3 (ipykernel)",
   "language": "python",
   "name": "python3"
  },
  "language_info": {
   "codemirror_mode": {
    "name": "ipython",
    "version": 3
   },
   "file_extension": ".py",
   "mimetype": "text/x-python",
   "name": "python",
   "nbconvert_exporter": "python",
   "pygments_lexer": "ipython3",
   "version": "3.11.5"
  }
 },
 "nbformat": 4,
 "nbformat_minor": 5
}
